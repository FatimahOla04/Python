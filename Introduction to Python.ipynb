{
 "cells": [
  {
   "cell_type": "code",
   "execution_count": null,
   "id": "2fd80f77",
   "metadata": {},
   "outputs": [],
   "source": []
  },
  {
   "cell_type": "markdown",
   "id": "e890702a",
   "metadata": {},
   "source": [
    "# Intro to python\n",
    "## intro to python\n",
    "\n",
    "###### intro to python\n",
    "python is fun to learn, this is just an introduction\n",
    "\n",
    "## Order list\n",
    " 1. point one\n",
    " 2. point two\n",
    " 3. point three\n",
    " \n",
    " ## Unorder list\n",
    " \n",
    " - point one\n",
    " - point two\n",
    " - point three"
   ]
  },
  {
   "cell_type": "code",
   "execution_count": 1,
   "id": "6380c11d",
   "metadata": {},
   "outputs": [
    {
     "name": "stdout",
     "output_type": "stream",
     "text": [
      "Hello World, i am here learning python for data science\n"
     ]
    }
   ],
   "source": [
    "# I am about to write my first python code\n",
    "print(\"Hello World, i am here learning python for data science\")"
   ]
  },
  {
   "cell_type": "markdown",
   "id": "abe0a66f",
   "metadata": {},
   "source": [
    "## Variable and Identifier\n",
    "A variable is any object or value that occupy space on computer memory\n",
    "An identifier is used to identify variable"
   ]
  },
  {
   "cell_type": "code",
   "execution_count": 4,
   "id": "604f7245",
   "metadata": {},
   "outputs": [
    {
     "name": "stdout",
     "output_type": "stream",
     "text": [
      "2\n"
     ]
    }
   ],
   "source": [
    "num1 = 2\n",
    "print(num1)"
   ]
  },
  {
   "cell_type": "markdown",
   "id": "585b0f94",
   "metadata": {},
   "source": [
    "# Rules for naming variable\n",
    "- variable name cannot start with a number, though number can be find anywhere else\n",
    "- Any special character cannot be included in a variable name except underscore\n",
    "- Variable name cannot be join with white space, use underscore\n",
    "- Python reserved words cannot be use as variable name\n",
    "- Variable name needs to be decriptive."
   ]
  },
  {
   "cell_type": "code",
   "execution_count": 6,
   "id": "961967e0",
   "metadata": {},
   "outputs": [
    {
     "name": "stdout",
     "output_type": "stream",
     "text": [
      "Hello everyone!!!. \n",
      " my name is olaitan kazeem I am 12 years old, from Iwo Town\n"
     ]
    }
   ],
   "source": [
    "first_name = \"olaitan\"\n",
    "last_name = \"kazeem\"\n",
    "age = 12\n",
    "origin = \"Iwo Town\"\n",
    "print(\"Hello everyone!!!. \\n my name is\", first_name, last_name, \"I am\", age, \"years old, from\", origin)"
   ]
  },
  {
   "cell_type": "code",
   "execution_count": null,
   "id": "4cf32808",
   "metadata": {},
   "outputs": [],
   "source": []
  }
 ],
 "metadata": {
  "kernelspec": {
   "display_name": "Python 3 (ipykernel)",
   "language": "python",
   "name": "python3"
  },
  "language_info": {
   "codemirror_mode": {
    "name": "ipython",
    "version": 3
   },
   "file_extension": ".py",
   "mimetype": "text/x-python",
   "name": "python",
   "nbconvert_exporter": "python",
   "pygments_lexer": "ipython3",
   "version": "3.9.13"
  }
 },
 "nbformat": 4,
 "nbformat_minor": 5
}
