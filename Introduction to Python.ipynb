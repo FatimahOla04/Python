{
 "cells": [
  {
   "cell_type": "code",
   "execution_count": null,
   "id": "2fd80f77",
   "metadata": {},
   "outputs": [],
   "source": []
  },
  {
   "cell_type": "markdown",
   "id": "e890702a",
   "metadata": {},
   "source": [
    "# Intro to python\n",
    "## intro to python\n",
    "\n",
    "###### intro to python\n",
    "python is fun to learn, this is just an introduction\n",
    "\n",
    "## Order list\n",
    " 1. point one\n",
    " 2. point two\n",
    " 3. point three\n",
    " \n",
    " ## Unorder list\n",
    " \n",
    " - point one\n",
    " - point two\n",
    " - point three"
   ]
  },
  {
   "cell_type": "code",
   "execution_count": 1,
   "id": "6380c11d",
   "metadata": {},
   "outputs": [
    {
     "name": "stdout",
     "output_type": "stream",
     "text": [
      "Hello World, i am here learning python for data science\n"
     ]
    }
   ],
   "source": [
    "# I am about to write my first python code\n",
    "print(\"Hello World, i am here learning python for data science\")"
   ]
  },
  {
   "cell_type": "markdown",
   "id": "abe0a66f",
   "metadata": {},
   "source": [
    "## Variable and Identifier\n",
    "A variable is any object or value that occupy space on computer memory\n",
    "An identifier is used to identify variable"
   ]
  },
  {
   "cell_type": "code",
   "execution_count": 4,
   "id": "604f7245",
   "metadata": {},
   "outputs": [
    {
     "name": "stdout",
     "output_type": "stream",
     "text": [
      "2\n"
     ]
    }
   ],
   "source": [
    "num1 = 2\n",
    "print(num1)"
   ]
  },
  {
   "cell_type": "markdown",
   "id": "585b0f94",
   "metadata": {},
   "source": [
    "# Rules for naming variable\n",
    "- variable name cannot start with a number, though number can be find anywhere else\n",
    "- Any special character cannot be included in a variable name except underscore\n",
    "- Variable name cannot be join with white space, use underscore\n",
    "- Python reserved words cannot be use as variable name\n",
    "- Variable name needs to be decriptive."
   ]
  },
  {
   "cell_type": "code",
   "execution_count": 6,
   "id": "961967e0",
   "metadata": {},
   "outputs": [
    {
     "name": "stdout",
     "output_type": "stream",
     "text": [
      "Hello everyone!!!. \n",
      " my name is olaitan kazeem I am 12 years old, from Iwo Town\n"
     ]
    }
   ],
   "source": [
    "first_name = \"olaitan\"\n",
    "last_name = \"kazeem\"\n",
    "age = 12\n",
    "origin = \"Iwo Town\"\n",
    "print(\"Hello everyone!!!. \\n my name is\", first_name, last_name, \"I am\", age, \"years old, from\", origin)"
   ]
  },
  {
   "cell_type": "code",
   "execution_count": 1,
   "id": "4cf32808",
   "metadata": {},
   "outputs": [
    {
     "name": "stdout",
     "output_type": "stream",
     "text": [
      "please enter your first nameFatimah\n",
      "please enter your last nameAbdulkadir\n",
      "how old are you18\n",
      "what town are you fromIlorin\n",
      "Hello everyone!!!. \n",
      " my name is Fatimah Abdulkadir I am 18 years old, from Ilorin\n"
     ]
    }
   ],
   "source": [
    "first_name = input(\"please enter your first name\")\n",
    "last_name = input(\"please enter your last name\")\n",
    "age = input(\"how old are you\")\n",
    "origin = input(\"what town are you from\")\n",
    "print(\"Hello everyone!!!. \\n my name is\", first_name, last_name, \"I am\", age, \"years old, from\", origin)"
   ]
  },
  {
   "cell_type": "code",
   "execution_count": 2,
   "id": "32061ad9",
   "metadata": {},
   "outputs": [
    {
     "name": "stdout",
     "output_type": "stream",
     "text": [
      "Please enter the first number2\n",
      "Please enter the second number7\n",
      "The sum of the number entered is 9\n"
     ]
    }
   ],
   "source": [
    "# write a python script to take numbers from a user and sum of the numbers\n",
    "number1 = int (input(\"Please enter the first number \") )\n",
    "number2 = int(input(\"Please enter the second number \") )\n",
    "total = number1 + number2\n",
    "print(\"The sum of the number entered is\", total)"
   ]
  },
  {
   "cell_type": "markdown",
   "id": "07f49dd2",
   "metadata": {},
   "source": [
    "# Operators in python\n",
    "\n",
    "Operators is used to manipulate operand\n",
    "- Arithmetic \n",
    "- Comparison\n",
    "- Identity\n",
    "- Membership\n",
    "- Assignment\n",
    "- Logical\n",
    "- Bitwise"
   ]
  },
  {
   "cell_type": "markdown",
   "id": "12270638",
   "metadata": {},
   "source": [
    "# Arithmetic"
   ]
  },
  {
   "cell_type": "code",
   "execution_count": 3,
   "id": "5a0cbe3d",
   "metadata": {},
   "outputs": [
    {
     "name": "stdout",
     "output_type": "stream",
     "text": [
      "32\n"
     ]
    }
   ],
   "source": [
    "# Addition (+)\n",
    "a = 12\n",
    "b = 20\n",
    "c = a+b\n",
    "print(c)"
   ]
  },
  {
   "cell_type": "code",
   "execution_count": 4,
   "id": "c46dbe7a",
   "metadata": {},
   "outputs": [
    {
     "name": "stdout",
     "output_type": "stream",
     "text": [
      "-8\n"
     ]
    }
   ],
   "source": [
    "# Subtraction (-)\n",
    "a = 12\n",
    "b = 20\n",
    "c = a-b\n",
    "print(c)"
   ]
  },
  {
   "cell_type": "code",
   "execution_count": 5,
   "id": "27444bc8",
   "metadata": {},
   "outputs": [
    {
     "name": "stdout",
     "output_type": "stream",
     "text": [
      "0.6\n"
     ]
    }
   ],
   "source": [
    "# Division (/)\n",
    "a = 12\n",
    "b = 20\n",
    "c = a/b\n",
    "print(c)"
   ]
  },
  {
   "cell_type": "code",
   "execution_count": 7,
   "id": "a65c698c",
   "metadata": {},
   "outputs": [
    {
     "name": "stdout",
     "output_type": "stream",
     "text": [
      "1\n"
     ]
    }
   ],
   "source": [
    "# Modulus (%): return the remainder of division\n",
    "a = 10\n",
    "b = 3\n",
    "c = a % b\n",
    "print(c)"
   ]
  },
  {
   "cell_type": "markdown",
   "id": "5bbfca1c",
   "metadata": {},
   "source": [
    "# Comparison"
   ]
  },
  {
   "cell_type": "code",
   "execution_count": 8,
   "id": "acdb5aee",
   "metadata": {},
   "outputs": [
    {
     "data": {
      "text/plain": [
       "False"
      ]
     },
     "execution_count": 8,
     "metadata": {},
     "output_type": "execute_result"
    }
   ],
   "source": [
    "# greater than (>)\n",
    "a = 6\n",
    "b = 20\n",
    "a > b"
   ]
  },
  {
   "cell_type": "code",
   "execution_count": 9,
   "id": "1810c550",
   "metadata": {},
   "outputs": [
    {
     "data": {
      "text/plain": [
       "False"
      ]
     },
     "execution_count": 9,
     "metadata": {},
     "output_type": "execute_result"
    }
   ],
   "source": [
    "# greater than or equal to (>=)\n",
    "a = 6\n",
    "b = 20\n",
    "a >= b"
   ]
  },
  {
   "cell_type": "code",
   "execution_count": 10,
   "id": "a477e194",
   "metadata": {},
   "outputs": [
    {
     "data": {
      "text/plain": [
       "True"
      ]
     },
     "execution_count": 10,
     "metadata": {},
     "output_type": "execute_result"
    }
   ],
   "source": [
    "# less than (<)\n",
    "a = 6\n",
    "b = 20\n",
    "a < b"
   ]
  },
  {
   "cell_type": "code",
   "execution_count": 11,
   "id": "d08440ff",
   "metadata": {},
   "outputs": [
    {
     "data": {
      "text/plain": [
       "True"
      ]
     },
     "execution_count": 11,
     "metadata": {},
     "output_type": "execute_result"
    }
   ],
   "source": [
    "# less than or equal to (<=)\n",
    "a = 6\n",
    "b = 20\n",
    "a <= b"
   ]
  },
  {
   "cell_type": "code",
   "execution_count": 13,
   "id": "f4e391b2",
   "metadata": {},
   "outputs": [
    {
     "data": {
      "text/plain": [
       "False"
      ]
     },
     "execution_count": 13,
     "metadata": {},
     "output_type": "execute_result"
    }
   ],
   "source": [
    "# equal to (==):\n",
    "a = 10\n",
    "v = 9\n",
    "a == v "
   ]
  },
  {
   "cell_type": "markdown",
   "id": "9645efbd",
   "metadata": {},
   "source": [
    "# Assignment"
   ]
  },
  {
   "cell_type": "code",
   "execution_count": 15,
   "id": "0664af92",
   "metadata": {},
   "outputs": [],
   "source": [
    "# equal to\n",
    "a = 4"
   ]
  },
  {
   "cell_type": "code",
   "execution_count": 16,
   "id": "d45679aa",
   "metadata": {},
   "outputs": [
    {
     "name": "stdout",
     "output_type": "stream",
     "text": [
      "value of Ola before increment 2\n",
      "value of Ola after increment 10\n"
     ]
    }
   ],
   "source": [
    "# increment\n",
    "Ola = 2\n",
    "print(\"value of Ola before increment\", Ola)\n",
    "Ola += 8 # increase the initial of Ola with 1\n",
    "print(\"value of Ola after increment\", Ola)"
   ]
  },
  {
   "cell_type": "code",
   "execution_count": 18,
   "id": "18fb13c0",
   "metadata": {},
   "outputs": [
    {
     "name": "stdout",
     "output_type": "stream",
     "text": [
      "value of Ola before Decrement 2\n",
      "value of Ola after Decrement -6\n"
     ]
    }
   ],
   "source": [
    "# Decrement\n",
    "Ola = 2\n",
    "print(\"value of Ola before Decrement\", Ola)\n",
    "Ola -= 8 # Decrease the initial of Ola with 1\n",
    "print(\"value of Ola after Decrement\", Ola)"
   ]
  },
  {
   "cell_type": "markdown",
   "id": "8fc0d952",
   "metadata": {},
   "source": [
    "# Membership"
   ]
  },
  {
   "cell_type": "code",
   "execution_count": 20,
   "id": "5330d943",
   "metadata": {},
   "outputs": [
    {
     "data": {
      "text/plain": [
       "True"
      ]
     },
     "execution_count": 20,
     "metadata": {},
     "output_type": "execute_result"
    }
   ],
   "source": [
    "# in/ not in\n",
    "7 in [1,2,3,45,7]"
   ]
  },
  {
   "cell_type": "code",
   "execution_count": 21,
   "id": "2c67367b",
   "metadata": {},
   "outputs": [
    {
     "data": {
      "text/plain": [
       "False"
      ]
     },
     "execution_count": 21,
     "metadata": {},
     "output_type": "execute_result"
    }
   ],
   "source": [
    "7 not in [1,2,3,45,7]"
   ]
  },
  {
   "cell_type": "markdown",
   "id": "53c1c61e",
   "metadata": {},
   "source": [
    "# Identity"
   ]
  },
  {
   "cell_type": "code",
   "execution_count": 22,
   "id": "60399e03",
   "metadata": {},
   "outputs": [
    {
     "name": "stderr",
     "output_type": "stream",
     "text": [
      "<>:2: SyntaxWarning: \"is\" with a literal. Did you mean \"==\"?\n",
      "<>:2: SyntaxWarning: \"is\" with a literal. Did you mean \"==\"?\n",
      "C:\\Users\\USER\\AppData\\Local\\Temp\\ipykernel_16596\\3188113026.py:2: SyntaxWarning: \"is\" with a literal. Did you mean \"==\"?\n",
      "  4 is 4\n"
     ]
    },
    {
     "data": {
      "text/plain": [
       "True"
      ]
     },
     "execution_count": 22,
     "metadata": {},
     "output_type": "execute_result"
    }
   ],
   "source": [
    "# is/ is not\n",
    "4 is 4 "
   ]
  },
  {
   "cell_type": "code",
   "execution_count": 23,
   "id": "06adb8e8",
   "metadata": {},
   "outputs": [
    {
     "data": {
      "text/plain": [
       "False"
      ]
     },
     "execution_count": 23,
     "metadata": {},
     "output_type": "execute_result"
    }
   ],
   "source": [
    "a = \"Ola\"\n",
    "b = \"ola\"\n",
    "a is b"
   ]
  },
  {
   "cell_type": "markdown",
   "id": "f2f6ec09",
   "metadata": {},
   "source": [
    "# Logical"
   ]
  },
  {
   "cell_type": "code",
   "execution_count": 25,
   "id": "0719fcbb",
   "metadata": {},
   "outputs": [
    {
     "data": {
      "text/plain": [
       "True"
      ]
     },
     "execution_count": 25,
     "metadata": {},
     "output_type": "execute_result"
    }
   ],
   "source": [
    "# and/ or\n",
    "(12>4) and (8>2)"
   ]
  },
  {
   "cell_type": "markdown",
   "id": "aaf88e43",
   "metadata": {},
   "source": [
    "# Datatype in Python"
   ]
  },
  {
   "cell_type": "markdown",
   "id": "05b479ae",
   "metadata": {},
   "source": [
    "Mutable datatype: they can be modifify after declaration\n",
    "    \n",
    "- list\n",
    "- dictionary\n",
    "- set\n",
    "\n",
    "Immutable datatype: they cannot be modify after declaration\n",
    "    \n",
    "- number\n",
    "- str\n",
    "- tuple"
   ]
  },
  {
   "cell_type": "markdown",
   "id": "7550d24f",
   "metadata": {},
   "source": [
    "# number\n",
    "\n",
    "- int_ = 1928\n",
    "- float_ = 293834.884\n",
    "- complex_ = 3 + 3j"
   ]
  },
  {
   "cell_type": "markdown",
   "id": "060ec7ab",
   "metadata": {},
   "source": [
    "# str: are sequence of characters\n",
    "- name = 'Olaitan'\n",
    "- name = \"Olaitan\"\n",
    "- name = \"\"\"this string is\n",
    "          very long in such\n",
    "          a way that i need to\n",
    "          come to the next lines\"\"\""
   ]
  },
  {
   "cell_type": "markdown",
   "id": "71d0d624",
   "metadata": {},
   "source": [
    "# Indexing and Slicing"
   ]
  },
  {
   "cell_type": "code",
   "execution_count": 26,
   "id": "47c6580b",
   "metadata": {},
   "outputs": [
    {
     "data": {
      "text/plain": [
       "'o'"
      ]
     },
     "execution_count": 26,
     "metadata": {},
     "output_type": "execute_result"
    }
   ],
   "source": [
    " name = \"olaitan\"\n",
    " # return o from olaitan\n",
    " name[0] # forward indexing"
   ]
  },
  {
   "cell_type": "code",
   "execution_count": 27,
   "id": "dd827ac9",
   "metadata": {},
   "outputs": [
    {
     "data": {
      "text/plain": [
       "'o'"
      ]
     },
     "execution_count": 27,
     "metadata": {},
     "output_type": "execute_result"
    }
   ],
   "source": [
    " name[-7] # backward indexing"
   ]
  },
  {
   "cell_type": "code",
   "execution_count": 28,
   "id": "2f56ed50",
   "metadata": {},
   "outputs": [
    {
     "data": {
      "text/plain": [
       "'i'"
      ]
     },
     "execution_count": 28,
     "metadata": {},
     "output_type": "execute_result"
    }
   ],
   "source": [
    " name[3]"
   ]
  },
  {
   "cell_type": "code",
   "execution_count": 29,
   "id": "417967a4",
   "metadata": {},
   "outputs": [
    {
     "data": {
      "text/plain": [
       "'l'"
      ]
     },
     "execution_count": 29,
     "metadata": {},
     "output_type": "execute_result"
    }
   ],
   "source": [
    " name[-6]"
   ]
  },
  {
   "cell_type": "markdown",
   "id": "25bb45a7",
   "metadata": {},
   "source": [
    "[Index no: position no: skip no]"
   ]
  },
  {
   "cell_type": "code",
   "execution_count": 32,
   "id": "22a0a983",
   "metadata": {},
   "outputs": [
    {
     "data": {
      "text/plain": [
       "'ai'"
      ]
     },
     "execution_count": 32,
     "metadata": {},
     "output_type": "execute_result"
    }
   ],
   "source": [
    "# return ai from olaitan\n",
    "name[2:4]"
   ]
  },
  {
   "cell_type": "code",
   "execution_count": 33,
   "id": "5af2ab87",
   "metadata": {},
   "outputs": [
    {
     "data": {
      "text/plain": [
       "'fun'"
      ]
     },
     "execution_count": 33,
     "metadata": {},
     "output_type": "execute_result"
    }
   ],
   "source": [
    "info = \"python is fun to learn\"\n",
    "# return fun from the variable\n",
    "info[10:13]"
   ]
  },
  {
   "cell_type": "code",
   "execution_count": 43,
   "id": "ffc45f8e",
   "metadata": {},
   "outputs": [
    {
     "data": {
      "text/plain": [
       "'if  a'"
      ]
     },
     "execution_count": 43,
     "metadata": {},
     "output_type": "execute_result"
    }
   ],
   "source": [
    "info = \"python is fun to learn\"\n",
    "# return \"if a\"\n",
    "info[7:20:3]"
   ]
  },
  {
   "cell_type": "markdown",
   "id": "42a9acac",
   "metadata": {},
   "source": [
    "# String Method"
   ]
  },
  {
   "cell_type": "markdown",
   "id": "0eebbe9e",
   "metadata": {},
   "source": [
    "1. split\n",
    "2. strip\n",
    "3. endswith\n",
    "4. startwith\n",
    "5. upper/lower\n",
    "6. find\n",
    "7. replace"
   ]
  },
  {
   "cell_type": "code",
   "execution_count": 44,
   "id": "0472e11b",
   "metadata": {},
   "outputs": [
    {
     "data": {
      "text/plain": [
       "'python is fun to learn'"
      ]
     },
     "execution_count": 44,
     "metadata": {},
     "output_type": "execute_result"
    }
   ],
   "source": [
    "info"
   ]
  },
  {
   "cell_type": "code",
   "execution_count": 45,
   "id": "1cc401df",
   "metadata": {},
   "outputs": [
    {
     "data": {
      "text/plain": [
       "['python', 'is', 'fun', 'to', 'learn']"
      ]
     },
     "execution_count": 45,
     "metadata": {},
     "output_type": "execute_result"
    }
   ],
   "source": [
    "# split is use to split string at any given space or specified character. the output is list \n",
    "info.split()"
   ]
  },
  {
   "cell_type": "code",
   "execution_count": 46,
   "id": "5e563f3d",
   "metadata": {},
   "outputs": [
    {
     "data": {
      "text/plain": [
       "['my', 'name', 'is', 'fatimah', 'and', 'i', 'am', 'taking', 'python', 'class']"
      ]
     },
     "execution_count": 46,
     "metadata": {},
     "output_type": "execute_result"
    }
   ],
   "source": [
    "gist = \"my/name/is/fatimah/and/i/am/taking/python/class\"\n",
    "gist.split(\"/\")"
   ]
  },
  {
   "cell_type": "code",
   "execution_count": 47,
   "id": "1f82ce4f",
   "metadata": {},
   "outputs": [
    {
     "data": {
      "text/plain": [
       "'olaitan'"
      ]
     },
     "execution_count": 47,
     "metadata": {},
     "output_type": "execute_result"
    }
   ],
   "source": [
    "name = \"     olaitan   \"\n",
    "name.strip()"
   ]
  },
  {
   "cell_type": "code",
   "execution_count": 48,
   "id": "03a83086",
   "metadata": {},
   "outputs": [
    {
     "data": {
      "text/plain": [
       "'olaitan'"
      ]
     },
     "execution_count": 48,
     "metadata": {},
     "output_type": "execute_result"
    }
   ],
   "source": [
    "name = \"{{{{////olaitan>>>>>////\"\n",
    "name.strip(\"{\").strip(\"/\").strip(\">\")"
   ]
  },
  {
   "cell_type": "code",
   "execution_count": null,
   "id": "2630281f",
   "metadata": {},
   "outputs": [],
   "source": []
  }
 ],
 "metadata": {
  "kernelspec": {
   "display_name": "Python 3 (ipykernel)",
   "language": "python",
   "name": "python3"
  },
  "language_info": {
   "codemirror_mode": {
    "name": "ipython",
    "version": 3
   },
   "file_extension": ".py",
   "mimetype": "text/x-python",
   "name": "python",
   "nbconvert_exporter": "python",
   "pygments_lexer": "ipython3",
   "version": "3.9.13"
  }
 },
 "nbformat": 4,
 "nbformat_minor": 5
}
