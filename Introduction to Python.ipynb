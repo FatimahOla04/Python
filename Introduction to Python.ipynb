{
 "cells": [
  {
   "cell_type": "code",
   "execution_count": null,
   "id": "2fd80f77",
   "metadata": {},
   "outputs": [],
   "source": []
  },
  {
   "cell_type": "markdown",
   "id": "e890702a",
   "metadata": {},
   "source": [
    "# Intro to python\n",
    "## intro to python\n",
    "\n",
    "###### intro to python\n",
    "python is fun to learn, this is just an introduction\n",
    "\n",
    "## Order list\n",
    " 1. point one\n",
    " 2. point two\n",
    " 3. point three\n",
    " \n",
    " ## Unorder list\n",
    " \n",
    " - point one\n",
    " - point two\n",
    " - point three"
   ]
  },
  {
   "cell_type": "code",
   "execution_count": 1,
   "id": "6380c11d",
   "metadata": {},
   "outputs": [
    {
     "name": "stdout",
     "output_type": "stream",
     "text": [
      "Hello World, i am here learning python for data science\n"
     ]
    }
   ],
   "source": [
    "# I am about to write my first python code\n",
    "print(\"Hello World, i am here learning python for data science\")"
   ]
  },
  {
   "cell_type": "markdown",
   "id": "abe0a66f",
   "metadata": {},
   "source": [
    "## Variable and Identifier\n",
    "A variable is any object or value that occupy space on computer memory\n",
    "An identifier is used to identify variable"
   ]
  },
  {
   "cell_type": "code",
   "execution_count": 4,
   "id": "604f7245",
   "metadata": {},
   "outputs": [
    {
     "name": "stdout",
     "output_type": "stream",
     "text": [
      "2\n"
     ]
    }
   ],
   "source": [
    "num1 = 2\n",
    "print(num1)"
   ]
  },
  {
   "cell_type": "markdown",
   "id": "585b0f94",
   "metadata": {},
   "source": [
    "# Rules for naming variable\n",
    "- variable name cannot start with a number, though number can be find anywhere else\n",
    "- Any special character cannot be included in a variable name except underscore\n",
    "- Variable name cannot be join with white space, use underscore\n",
    "- Python reserved words cannot be use as variable name\n",
    "- Variable name needs to be decriptive."
   ]
  },
  {
   "cell_type": "code",
   "execution_count": 6,
   "id": "961967e0",
   "metadata": {},
   "outputs": [
    {
     "name": "stdout",
     "output_type": "stream",
     "text": [
      "Hello everyone!!!. \n",
      " my name is olaitan kazeem I am 12 years old, from Iwo Town\n"
     ]
    }
   ],
   "source": [
    "first_name = \"olaitan\"\n",
    "last_name = \"kazeem\"\n",
    "age = 12\n",
    "origin = \"Iwo Town\"\n",
    "print(\"Hello everyone!!!. \\n my name is\", first_name, last_name, \"I am\", age, \"years old, from\", origin)"
   ]
  },
  {
   "cell_type": "code",
   "execution_count": 1,
   "id": "4cf32808",
   "metadata": {},
   "outputs": [
    {
     "name": "stdout",
     "output_type": "stream",
     "text": [
      "please enter your first nameFatimah\n",
      "please enter your last nameAbdulkadir\n",
      "how old are you18\n",
      "what town are you fromIlorin\n",
      "Hello everyone!!!. \n",
      " my name is Fatimah Abdulkadir I am 18 years old, from Ilorin\n"
     ]
    }
   ],
   "source": [
    "first_name = input(\"please enter your first name\")\n",
    "last_name = input(\"please enter your last name\")\n",
    "age = input(\"how old are you\")\n",
    "origin = input(\"what town are you from\")\n",
    "print(\"Hello everyone!!!. \\n my name is\", first_name, last_name, \"I am\", age, \"years old, from\", origin)"
   ]
  },
  {
   "cell_type": "code",
   "execution_count": 2,
   "id": "88f4979a",
   "metadata": {},
   "outputs": [
    {
     "name": "stdout",
     "output_type": "stream",
     "text": [
      "Please enter the first number2\n",
      "Please enter the second number7\n",
      "The sum of the number entered is 9\n"
     ]
    }
   ],
   "source": [
    "# write a python script to take numbers from a user and sum of the numbers\n",
    "number1 = int (input(\"Please enter the first number \") )\n",
    "number2 = int(input(\"Please enter the second number \") )\n",
    "total = number1 + number2\n",
    "print(\"The sum of the number entered is\", total)"
   ]
  },
  {
   "cell_type": "markdown",
   "id": "b7b7ae27",
   "metadata": {},
   "source": [
    "# Operators in python\n",
    "\n",
    "Operators is used to manipulate operand\n",
    "- Arithmetic \n",
    "- Comparison\n",
    "- Identity\n",
    "- Membership\n",
    "- Assignment\n",
    "- Logical\n",
    "- Bitwise"
   ]
  },
  {
   "cell_type": "markdown",
   "id": "e8062472",
   "metadata": {},
   "source": [
    "# Arithmetic"
   ]
  },
  {
   "cell_type": "code",
   "execution_count": 3,
   "id": "cfc93785",
   "metadata": {},
   "outputs": [
    {
     "name": "stdout",
     "output_type": "stream",
     "text": [
      "32\n"
     ]
    }
   ],
   "source": [
    "# Addition (+)\n",
    "a = 12\n",
    "b = 20\n",
    "c = a+b\n",
    "print(c)"
   ]
  },
  {
   "cell_type": "code",
   "execution_count": 4,
   "id": "835a01ea",
   "metadata": {},
   "outputs": [
    {
     "name": "stdout",
     "output_type": "stream",
     "text": [
      "-8\n"
     ]
    }
   ],
   "source": [
    "# Subtraction (-)\n",
    "a = 12\n",
    "b = 20\n",
    "c = a-b\n",
    "print(c)"
   ]
  },
  {
   "cell_type": "code",
   "execution_count": 5,
   "id": "828d1081",
   "metadata": {},
   "outputs": [
    {
     "name": "stdout",
     "output_type": "stream",
     "text": [
      "0.6\n"
     ]
    }
   ],
   "source": [
    "# Division (/)\n",
    "a = 12\n",
    "b = 20\n",
    "c = a/b\n",
    "print(c)"
   ]
  },
  {
   "cell_type": "code",
   "execution_count": 7,
   "id": "5cf57fbd",
   "metadata": {},
   "outputs": [
    {
     "name": "stdout",
     "output_type": "stream",
     "text": [
      "1\n"
     ]
    }
   ],
   "source": [
    "# Modulus (%): return the remainder of division\n",
    "a = 10\n",
    "b = 3\n",
    "c = a % b\n",
    "print(c)"
   ]
  },
  {
   "cell_type": "markdown",
   "id": "5e1b6d2e",
   "metadata": {},
   "source": [
    "# Comparison"
   ]
  },
  {
   "cell_type": "code",
   "execution_count": 8,
   "id": "29315c3d",
   "metadata": {},
   "outputs": [
    {
     "data": {
      "text/plain": [
       "False"
      ]
     },
     "execution_count": 8,
     "metadata": {},
     "output_type": "execute_result"
    }
   ],
   "source": [
    "# greater than (>)\n",
    "a = 6\n",
    "b = 20\n",
    "a > b"
   ]
  },
  {
   "cell_type": "code",
   "execution_count": 9,
   "id": "626d50c8",
   "metadata": {},
   "outputs": [
    {
     "data": {
      "text/plain": [
       "False"
      ]
     },
     "execution_count": 9,
     "metadata": {},
     "output_type": "execute_result"
    }
   ],
   "source": [
    "# greater than or equal to (>=)\n",
    "a = 6\n",
    "b = 20\n",
    "a >= b"
   ]
  },
  {
   "cell_type": "code",
   "execution_count": 10,
   "id": "ec1c1de1",
   "metadata": {},
   "outputs": [
    {
     "data": {
      "text/plain": [
       "True"
      ]
     },
     "execution_count": 10,
     "metadata": {},
     "output_type": "execute_result"
    }
   ],
   "source": [
    "# less than (<)\n",
    "a = 6\n",
    "b = 20\n",
    "a < b"
   ]
  },
  {
   "cell_type": "code",
   "execution_count": 11,
   "id": "f3dd8752",
   "metadata": {},
   "outputs": [
    {
     "data": {
      "text/plain": [
       "True"
      ]
     },
     "execution_count": 11,
     "metadata": {},
     "output_type": "execute_result"
    }
   ],
   "source": [
    "# less than or equal to (<=)\n",
    "a = 6\n",
    "b = 20\n",
    "a <= b"
   ]
  },
  {
   "cell_type": "code",
   "execution_count": 13,
   "id": "e5f781c3",
   "metadata": {},
   "outputs": [
    {
     "data": {
      "text/plain": [
       "False"
      ]
     },
     "execution_count": 13,
     "metadata": {},
     "output_type": "execute_result"
    }
   ],
   "source": [
    "# equal to (==):\n",
    "a = 10\n",
    "v = 9\n",
    "a == v "
   ]
  },
  {
   "cell_type": "markdown",
   "id": "9b87833f",
   "metadata": {},
   "source": [
    "# Assignment"
   ]
  },
  {
   "cell_type": "code",
   "execution_count": 15,
   "id": "7c09028c",
   "metadata": {},
   "outputs": [],
   "source": [
    "# equal to\n",
    "a = 4"
   ]
  },
  {
   "cell_type": "code",
   "execution_count": 16,
   "id": "fd647851",
   "metadata": {},
   "outputs": [
    {
     "name": "stdout",
     "output_type": "stream",
     "text": [
      "value of Ola before increment 2\n",
      "value of Ola after increment 10\n"
     ]
    }
   ],
   "source": [
    "# increment\n",
    "Ola = 2\n",
    "print(\"value of Ola before increment\", Ola)\n",
    "Ola += 8 # increase the initial of Ola with 1\n",
    "print(\"value of Ola after increment\", Ola)"
   ]
  },
  {
   "cell_type": "code",
   "execution_count": 18,
   "id": "2e22a9ae",
   "metadata": {},
   "outputs": [
    {
     "name": "stdout",
     "output_type": "stream",
     "text": [
      "value of Ola before Decrement 2\n",
      "value of Ola after Decrement -6\n"
     ]
    }
   ],
   "source": [
    "# Decrement\n",
    "Ola = 2\n",
    "print(\"value of Ola before Decrement\", Ola)\n",
    "Ola -= 8 # Decrease the initial of Ola with 1\n",
    "print(\"value of Ola after Decrement\", Ola)"
   ]
  },
  {
   "cell_type": "markdown",
   "id": "16177ede",
   "metadata": {},
   "source": [
    "# Membership"
   ]
  },
  {
   "cell_type": "code",
   "execution_count": 20,
   "id": "6cbee1cb",
   "metadata": {},
   "outputs": [
    {
     "data": {
      "text/plain": [
       "True"
      ]
     },
     "execution_count": 20,
     "metadata": {},
     "output_type": "execute_result"
    }
   ],
   "source": [
    "# in/ not in\n",
    "7 in [1,2,3,45,7]"
   ]
  },
  {
   "cell_type": "code",
   "execution_count": 21,
   "id": "850821a5",
   "metadata": {},
   "outputs": [
    {
     "data": {
      "text/plain": [
       "False"
      ]
     },
     "execution_count": 21,
     "metadata": {},
     "output_type": "execute_result"
    }
   ],
   "source": [
    "7 not in [1,2,3,45,7]"
   ]
  },
  {
   "cell_type": "markdown",
   "id": "6b574209",
   "metadata": {},
   "source": [
    "# Identity"
   ]
  },
  {
   "cell_type": "code",
   "execution_count": 22,
   "id": "be454880",
   "metadata": {},
   "outputs": [
    {
     "name": "stderr",
     "output_type": "stream",
     "text": [
      "<>:2: SyntaxWarning: \"is\" with a literal. Did you mean \"==\"?\n",
      "<>:2: SyntaxWarning: \"is\" with a literal. Did you mean \"==\"?\n",
      "C:\\Users\\USER\\AppData\\Local\\Temp\\ipykernel_16596\\3188113026.py:2: SyntaxWarning: \"is\" with a literal. Did you mean \"==\"?\n",
      "  4 is 4\n"
     ]
    },
    {
     "data": {
      "text/plain": [
       "True"
      ]
     },
     "execution_count": 22,
     "metadata": {},
     "output_type": "execute_result"
    }
   ],
   "source": [
    "# is/ is not\n",
    "4 is 4 "
   ]
  },
  {
   "cell_type": "code",
   "execution_count": 23,
   "id": "03b5c8fe",
   "metadata": {},
   "outputs": [
    {
     "data": {
      "text/plain": [
       "False"
      ]
     },
     "execution_count": 23,
     "metadata": {},
     "output_type": "execute_result"
    }
   ],
   "source": [
    "a = \"Ola\"\n",
    "b = \"ola\"\n",
    "a is b"
   ]
  },
  {
   "cell_type": "markdown",
   "id": "ced23199",
   "metadata": {},
   "source": [
    "# Logical"
   ]
  },
  {
   "cell_type": "code",
   "execution_count": 25,
   "id": "8433b807",
   "metadata": {},
   "outputs": [
    {
     "data": {
      "text/plain": [
       "True"
      ]
     },
     "execution_count": 25,
     "metadata": {},
     "output_type": "execute_result"
    }
   ],
   "source": [
    "# and/ or\n",
    "(12>4) and (8>2)"
   ]
  },
  {
   "cell_type": "markdown",
   "id": "0d83d7e8",
   "metadata": {},
   "source": [
    "# Datatype in Python"
   ]
  },
  {
   "cell_type": "markdown",
   "id": "a16b45ad",
   "metadata": {},
   "source": [
    "Mutable datatype: they can be modifify after declaration\n",
    "    \n",
    "- list\n",
    "- dictionary\n",
    "- set\n",
    "\n",
    "Immutable datatype: they cannot be modify after declaration\n",
    "    \n",
    "- number\n",
    "- str\n",
    "- tuple"
   ]
  },
  {
   "cell_type": "markdown",
   "id": "66712412",
   "metadata": {},
   "source": [
    "# number\n",
    "\n",
    "- int_ = 1928\n",
    "- float_ = 293834.884\n",
    "- complex_ = 3 + 3j"
   ]
  },
  {
   "cell_type": "markdown",
   "id": "ca670605",
   "metadata": {},
   "source": [
    "# str: are sequence of characters\n",
    "- name = 'Olaitan'\n",
    "- name = \"Olaitan\"\n",
    "- name = \"\"\"this string is\n",
    "          very long in such\n",
    "          a way that i need to\n",
    "          come to the next lines\"\"\""
   ]
  },
  {
   "cell_type": "markdown",
   "id": "183dfa18",
   "metadata": {},
   "source": [
    "# Indexing and Slicing"
   ]
  },
  {
   "cell_type": "code",
   "execution_count": 26,
   "id": "4abb6614",
   "metadata": {},
   "outputs": [
    {
     "data": {
      "text/plain": [
       "'o'"
      ]
     },
     "execution_count": 26,
     "metadata": {},
     "output_type": "execute_result"
    }
   ],
   "source": [
    " name = \"olaitan\"\n",
    " # return o from olaitan\n",
    " name[0] # forward indexing"
   ]
  },
  {
   "cell_type": "code",
   "execution_count": 27,
   "id": "7f71e31a",
   "metadata": {},
   "outputs": [
    {
     "data": {
      "text/plain": [
       "'o'"
      ]
     },
     "execution_count": 27,
     "metadata": {},
     "output_type": "execute_result"
    }
   ],
   "source": [
    " name[-7] # backward indexing"
   ]
  },
  {
   "cell_type": "code",
   "execution_count": 28,
   "id": "ab1bd7b9",
   "metadata": {},
   "outputs": [
    {
     "data": {
      "text/plain": [
       "'i'"
      ]
     },
     "execution_count": 28,
     "metadata": {},
     "output_type": "execute_result"
    }
   ],
   "source": [
    " name[3]"
   ]
  },
  {
   "cell_type": "code",
   "execution_count": 29,
   "id": "289fba8a",
   "metadata": {},
   "outputs": [
    {
     "data": {
      "text/plain": [
       "'l'"
      ]
     },
     "execution_count": 29,
     "metadata": {},
     "output_type": "execute_result"
    }
   ],
   "source": [
    " name[-6]"
   ]
  },
  {
   "cell_type": "markdown",
   "id": "c04b858d",
   "metadata": {},
   "source": [
    "[Index no: position no: skip no]"
   ]
  },
  {
   "cell_type": "code",
   "execution_count": 32,
   "id": "61b649db",
   "metadata": {},
   "outputs": [
    {
     "data": {
      "text/plain": [
       "'ai'"
      ]
     },
     "execution_count": 32,
     "metadata": {},
     "output_type": "execute_result"
    }
   ],
   "source": [
    "# return ai from olaitan\n",
    "name[2:4]"
   ]
  },
  {
   "cell_type": "code",
   "execution_count": 33,
   "id": "04dff52f",
   "metadata": {},
   "outputs": [
    {
     "data": {
      "text/plain": [
       "'fun'"
      ]
     },
     "execution_count": 33,
     "metadata": {},
     "output_type": "execute_result"
    }
   ],
   "source": [
    "info = \"python is fun to learn\"\n",
    "# return fun from the variable\n",
    "info[10:13]"
   ]
  },
  {
   "cell_type": "code",
   "execution_count": 43,
   "id": "f5dd410a",
   "metadata": {},
   "outputs": [
    {
     "data": {
      "text/plain": [
       "'if  a'"
      ]
     },
     "execution_count": 43,
     "metadata": {},
     "output_type": "execute_result"
    }
   ],
   "source": [
    "info = \"python is fun to learn\"\n",
    "# return \"if a\"\n",
    "info[7:20:3]"
   ]
  },
  {
   "cell_type": "markdown",
   "id": "ba13803d",
   "metadata": {},
   "source": [
    "# String Method"
   ]
  },
  {
   "cell_type": "markdown",
   "id": "c15f818f",
   "metadata": {},
   "source": [
    "1. split\n",
    "2. strip\n",
    "3. endswith\n",
    "4. startwith\n",
    "5. upper/lower\n",
    "6. find\n",
    "7. replace"
   ]
  },
  {
   "cell_type": "code",
   "execution_count": 44,
   "id": "3a6e26e9",
   "metadata": {},
   "outputs": [
    {
     "data": {
      "text/plain": [
       "'python is fun to learn'"
      ]
     },
     "execution_count": 44,
     "metadata": {},
     "output_type": "execute_result"
    }
   ],
   "source": [
    "info"
   ]
  },
  {
   "cell_type": "code",
   "execution_count": 45,
   "id": "bb5bedfa",
   "metadata": {},
   "outputs": [
    {
     "data": {
      "text/plain": [
       "['python', 'is', 'fun', 'to', 'learn']"
      ]
     },
     "execution_count": 45,
     "metadata": {},
     "output_type": "execute_result"
    }
   ],
   "source": [
    "# split is use to split string at any given space or specified character. the output is list \n",
    "info.split()"
   ]
  },
  {
   "cell_type": "code",
   "execution_count": 46,
   "id": "04a37cd2",
   "metadata": {},
   "outputs": [
    {
     "data": {
      "text/plain": [
       "['my', 'name', 'is', 'fatimah', 'and', 'i', 'am', 'taking', 'python', 'class']"
      ]
     },
     "execution_count": 46,
     "metadata": {},
     "output_type": "execute_result"
    }
   ],
   "source": [
    "gist = \"my/name/is/fatimah/and/i/am/taking/python/class\"\n",
    "gist.split(\"/\")"
   ]
  },
  {
   "cell_type": "code",
   "execution_count": 47,
   "id": "6f872c2c",
   "metadata": {},
   "outputs": [
    {
     "data": {
      "text/plain": [
       "'olaitan'"
      ]
     },
     "execution_count": 47,
     "metadata": {},
     "output_type": "execute_result"
    }
   ],
   "source": [
    "name = \"     olaitan   \"\n",
    "name.strip()"
   ]
  },
  {
   "cell_type": "code",
   "execution_count": 48,
   "id": "4fee8ee5",
   "metadata": {},
   "outputs": [
    {
     "data": {
      "text/plain": [
       "'olaitan'"
      ]
     },
     "execution_count": 48,
     "metadata": {},
     "output_type": "execute_result"
    }
   ],
   "source": [
    "name = \"{{{{////olaitan>>>>>////\"\n",
    "name.strip(\"{\").strip(\"/\").strip(\">\")"
   ]
  },
  {
   "cell_type": "markdown",
   "id": "e563ebf8",
   "metadata": {},
   "source": [
    "# Endswith"
   ]
  },
  {
   "cell_type": "code",
   "execution_count": 1,
   "id": "e67e0a1d",
   "metadata": {},
   "outputs": [
    {
     "data": {
      "text/plain": [
       "False"
      ]
     },
     "execution_count": 1,
     "metadata": {},
     "output_type": "execute_result"
    }
   ],
   "source": [
    "name = \"olaitan\"\n",
    "name.endswith(\"z\")"
   ]
  },
  {
   "cell_type": "markdown",
   "id": "306d3783",
   "metadata": {},
   "source": [
    "# Startswith"
   ]
  },
  {
   "cell_type": "code",
   "execution_count": 4,
   "id": "1c969688",
   "metadata": {},
   "outputs": [
    {
     "data": {
      "text/plain": [
       "True"
      ]
     },
     "execution_count": 4,
     "metadata": {},
     "output_type": "execute_result"
    }
   ],
   "source": [
    "name = \"olaitan\"\n",
    "name.startswith(\"o\")"
   ]
  },
  {
   "cell_type": "markdown",
   "id": "b5832e7b",
   "metadata": {},
   "source": [
    "# Upper"
   ]
  },
  {
   "cell_type": "code",
   "execution_count": 11,
   "id": "db41687f",
   "metadata": {},
   "outputs": [
    {
     "data": {
      "text/plain": [
       "'OLAITAN'"
      ]
     },
     "execution_count": 11,
     "metadata": {},
     "output_type": "execute_result"
    }
   ],
   "source": [
    "name = \"olaitan\"\n",
    "name = name.upper()\n",
    "name"
   ]
  },
  {
   "cell_type": "code",
   "execution_count": null,
   "id": "4c44d855",
   "metadata": {},
   "outputs": [],
   "source": []
  },
  {
   "cell_type": "markdown",
   "id": "157f46d5",
   "metadata": {},
   "source": [
    "# Lower"
   ]
  },
  {
   "cell_type": "code",
   "execution_count": 12,
   "id": "c1f49aa4",
   "metadata": {},
   "outputs": [
    {
     "data": {
      "text/plain": [
       "'olaitan'"
      ]
     },
     "execution_count": 12,
     "metadata": {},
     "output_type": "execute_result"
    }
   ],
   "source": [
    "name = \"olaitan\"\n",
    "name = name.lower()\n",
    "name"
   ]
  },
  {
   "cell_type": "markdown",
   "id": "8549749e",
   "metadata": {},
   "source": [
    "# Find"
   ]
  },
  {
   "cell_type": "code",
   "execution_count": 15,
   "id": "6b420109",
   "metadata": {},
   "outputs": [
    {
     "data": {
      "text/plain": [
       "3"
      ]
     },
     "execution_count": 15,
     "metadata": {},
     "output_type": "execute_result"
    }
   ],
   "source": [
    "name = \"olaitan\"\n",
    "name.find(\"i\")"
   ]
  },
  {
   "cell_type": "code",
   "execution_count": 16,
   "id": "ef9bcb15",
   "metadata": {},
   "outputs": [
    {
     "data": {
      "text/plain": [
       "-1"
      ]
     },
     "execution_count": 16,
     "metadata": {},
     "output_type": "execute_result"
    }
   ],
   "source": [
    "name = \"olaitan\"\n",
    "name.find(\"z\")"
   ]
  },
  {
   "cell_type": "markdown",
   "id": "4c3dec34",
   "metadata": {},
   "source": [
    "# Replace"
   ]
  },
  {
   "cell_type": "code",
   "execution_count": 14,
   "id": "9f769b16",
   "metadata": {},
   "outputs": [
    {
     "name": "stdout",
     "output_type": "stream",
     "text": [
      "olaytan\n"
     ]
    }
   ],
   "source": [
    "name = \"olaitan\"\n",
    "name = name.replace(\"i\", \"y\")\n",
    "print(name)"
   ]
  },
  {
   "cell_type": "markdown",
   "id": "f74f6fb7",
   "metadata": {},
   "source": [
    "# List"
   ]
  },
  {
   "cell_type": "markdown",
   "id": "e11a848d",
   "metadata": {},
   "source": [
    "List is the order in which element are arranged. We use Square bracket for this []"
   ]
  },
  {
   "cell_type": "code",
   "execution_count": 17,
   "id": "66fd11a6",
   "metadata": {},
   "outputs": [],
   "source": [
    "lis = [       ] # an empty list"
   ]
  },
  {
   "cell_type": "code",
   "execution_count": 18,
   "id": "23325171",
   "metadata": {},
   "outputs": [
    {
     "data": {
      "text/plain": [
       "'sancho'"
      ]
     },
     "execution_count": 18,
     "metadata": {},
     "output_type": "execute_result"
    }
   ],
   "source": [
    "lis1 = [\"cow\", 2, 6.6, [23,5], \"JAMES\", \"sancho\", \"rice\", \"white\"]\n",
    "lis1[5]"
   ]
  },
  {
   "cell_type": "code",
   "execution_count": 19,
   "id": "4d01aeaa",
   "metadata": {},
   "outputs": [
    {
     "data": {
      "text/plain": [
       "5"
      ]
     },
     "execution_count": 19,
     "metadata": {},
     "output_type": "execute_result"
    }
   ],
   "source": [
    "lis1[3][1]"
   ]
  },
  {
   "cell_type": "code",
   "execution_count": 20,
   "id": "dc98df74",
   "metadata": {},
   "outputs": [
    {
     "data": {
      "text/plain": [
       "[6.6, [23, 5], 'JAMES', 'sancho']"
      ]
     },
     "execution_count": 20,
     "metadata": {},
     "output_type": "execute_result"
    }
   ],
   "source": [
    "lis1[2:6]"
   ]
  },
  {
   "cell_type": "markdown",
   "id": "102b3ffa",
   "metadata": {},
   "source": [
    "# Important method of list\n",
    "\n",
    "- append : is used to add element to the end of a list\n",
    "- pop : is used to remove element at specific index\n",
    "- remove : is used to delete element specified\n",
    "- sort : is used to sort elememt of a list"
   ]
  },
  {
   "cell_type": "code",
   "execution_count": 21,
   "id": "72141b6e",
   "metadata": {},
   "outputs": [
    {
     "name": "stdout",
     "output_type": "stream",
     "text": [
      "[1, 'kola', 'ade', 'elephant']\n"
     ]
    }
   ],
   "source": [
    "lis = [1, \"kola\", \"ade\"]\n",
    "lis.append(\"elephant\")\n",
    "print(lis)"
   ]
  },
  {
   "cell_type": "code",
   "execution_count": 23,
   "id": "5662e99e",
   "metadata": {},
   "outputs": [
    {
     "name": "stdout",
     "output_type": "stream",
     "text": [
      "[1, 'kola']\n",
      "ade\n"
     ]
    }
   ],
   "source": [
    "lis = [1, \"kola\", \"ade\"]\n",
    "name = lis.pop( )\n",
    "print(lis)\n",
    "print(name)"
   ]
  },
  {
   "cell_type": "code",
   "execution_count": 24,
   "id": "3b81e3f3",
   "metadata": {},
   "outputs": [
    {
     "name": "stdout",
     "output_type": "stream",
     "text": [
      "[1, 'kola']\n"
     ]
    }
   ],
   "source": [
    "lis = [1, \"kola\", \"ade\"]\n",
    "lis.remove(\"ade\")\n",
    "print(lis)"
   ]
  },
  {
   "cell_type": "code",
   "execution_count": 25,
   "id": "17b2f987",
   "metadata": {},
   "outputs": [
    {
     "name": "stdout",
     "output_type": "stream",
     "text": [
      "[10, 8, 7, 7, 4, 3, 2]\n"
     ]
    }
   ],
   "source": [
    "lis = [2, 7, 3, 10, 4, 7, 8]\n",
    "lis.sort(reverse=True)\n",
    "print(lis)"
   ]
  },
  {
   "cell_type": "code",
   "execution_count": 26,
   "id": "7a70b5d3",
   "metadata": {},
   "outputs": [
    {
     "name": "stdout",
     "output_type": "stream",
     "text": [
      "[2, 3, 4, 7, 7, 8, 10]\n"
     ]
    }
   ],
   "source": [
    "lis = [2, 7, 3, 10, 4, 7, 8]\n",
    "lis.sort()\n",
    "print(lis)"
   ]
  },
  {
   "cell_type": "markdown",
   "id": "7d929334",
   "metadata": {},
   "source": [
    "# Modify the element of a list "
   ]
  },
  {
   "cell_type": "code",
   "execution_count": 27,
   "id": "b4611016",
   "metadata": {},
   "outputs": [
    {
     "name": "stdout",
     "output_type": "stream",
     "text": [
      "['cow', 2, 6.6, [23, 5], 'JAMES', 'rashford', 'rice', 'white']\n"
     ]
    }
   ],
   "source": [
    "lis1 = [\"cow\", 2, 6.6, [23,5], \"JAMES\", \"sancho\", \"rice\", \"white\"]\n",
    "# change sancho to rashford\n",
    "lis1[5] = \"rashford\"\n",
    "print(lis1)"
   ]
  },
  {
   "cell_type": "code",
   "execution_count": 28,
   "id": "7d81c00c",
   "metadata": {},
   "outputs": [],
   "source": [
    "tup = (     ) # an empty tuple\n"
   ]
  },
  {
   "cell_type": "code",
   "execution_count": 30,
   "id": "61d25672",
   "metadata": {},
   "outputs": [
    {
     "data": {
      "text/plain": [
       "3"
      ]
     },
     "execution_count": 30,
     "metadata": {},
     "output_type": "execute_result"
    }
   ],
   "source": [
    "tup = (2, \"Fatimah\", \"Olaitan\", \"James\", \"Ada\", [2,3,6,7])\n",
    "tup[5][1]"
   ]
  },
  {
   "cell_type": "code",
   "execution_count": 31,
   "id": "76b22afa",
   "metadata": {},
   "outputs": [
    {
     "data": {
      "text/plain": [
       "1"
      ]
     },
     "execution_count": 31,
     "metadata": {},
     "output_type": "execute_result"
    }
   ],
   "source": [
    "tup.count(2)"
   ]
  },
  {
   "cell_type": "code",
   "execution_count": 32,
   "id": "488e8986",
   "metadata": {},
   "outputs": [
    {
     "data": {
      "text/plain": [
       "{0, 2, 5, 7, 9, 100, 300}"
      ]
     },
     "execution_count": 32,
     "metadata": {},
     "output_type": "execute_result"
    }
   ],
   "source": [
    "set1 = {100, 300, 7, 2, 9, 0, 5, 2, 2, 2, 2 }\n",
    "set1"
   ]
  },
  {
   "cell_type": "markdown",
   "id": "90095637",
   "metadata": {},
   "source": [
    "# Dictionary\n",
    "is a type of data type that has key(:) and value pair relationship"
   ]
  },
  {
   "cell_type": "code",
   "execution_count": 33,
   "id": "95124f3f",
   "metadata": {},
   "outputs": [
    {
     "data": {
      "text/plain": [
       "dict"
      ]
     },
     "execution_count": 33,
     "metadata": {},
     "output_type": "execute_result"
    }
   ],
   "source": [
    "Fatimah = {name:\"olaitan\", \"age\":12, \"address\":\"olowoira\"}\n",
    "type(Fatimah)"
   ]
  },
  {
   "cell_type": "code",
   "execution_count": null,
   "id": "4e758d3d",
   "metadata": {},
   "outputs": [],
   "source": []
  }
 ],
 "metadata": {
  "kernelspec": {
   "display_name": "Python 3 (ipykernel)",
   "language": "python",
   "name": "python3"
  },
  "language_info": {
   "codemirror_mode": {
    "name": "ipython",
    "version": 3
   },
   "file_extension": ".py",
   "mimetype": "text/x-python",
   "name": "python",
   "nbconvert_exporter": "python",
   "pygments_lexer": "ipython3",
   "version": "3.9.13"
  }
 },
 "nbformat": 4,
 "nbformat_minor": 5
}
